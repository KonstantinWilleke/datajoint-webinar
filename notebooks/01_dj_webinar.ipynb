{
 "cells": [
  {
   "cell_type": "markdown",
   "metadata": {},
   "source": [
    "# Welcome to the first DataJoint webinar!\n",
    "\n",
    "This webinar consists of three main parts. In the first part we will learn how to connect to a database. Afterwards the second part will teach us fundamental DataJoint usage which will be expanded upon in the third part when we will learn about working with dependent tables.\n",
    "\n",
    "But first things first, let's start by connecting to a database:\n",
    "\n",
    "## 1. Connecting to the DataJoint database\n",
    "\n",
    "In this part we will learn how to...\n",
    "1. ...import the DataJoint package\n",
    "2. ...configure the connection information\n",
    "3. ...test the connection\n",
    "4. ...change the password of your database user\n",
    "\n",
    "### 1.1 Importing the package\n",
    "\n",
    "We must import the `datajoint` package before we can start using it. Convention is to alias the package to `dj`."
   ]
  },
  {
   "cell_type": "code",
   "execution_count": null,
   "metadata": {},
   "outputs": [],
   "source": [
    "import datajoint as dj"
   ]
  },
  {
   "cell_type": "markdown",
   "metadata": {},
   "source": [
    "The `datajoint` package is now imported but a database connection has not yet been established. In order to establish a connection we first have to specify the connection information. We will learn how to do this in the next section."
   ]
  },
  {
   "cell_type": "markdown",
   "metadata": {},
   "source": [
    "### 1.2 Configuring the connection information"
   ]
  },
  {
   "cell_type": "markdown",
   "metadata": {},
   "source": [
    "The configuration information DataJoint is currently using can be found in the `dj.config` object. Let's take a look:"
   ]
  },
  {
   "cell_type": "code",
   "execution_count": null,
   "metadata": {},
   "outputs": [],
   "source": [
    "dj.config"
   ]
  },
  {
   "cell_type": "markdown",
   "metadata": {},
   "source": [
    "The `dj.config` object behaves like a regular Python dictionary, i.e. it maps keys to values. The values associated with the three following keys tell DataJoint which database server it should connect to:\n",
    "* `database.host` (The address of the database server)\n",
    "* `database.user` (Your username)\n",
    "* `database.password` (Your password)\n",
    "\n",
    "For the purposes of this webinar the values are already correctly configured but usually you have to set them yourself.\n",
    "\n",
    "### 1.3 Testing the connection\n",
    "\n",
    "We can test our database connection by calling the `dj.conn` function directly:"
   ]
  },
  {
   "cell_type": "code",
   "execution_count": null,
   "metadata": {},
   "outputs": [],
   "source": [
    "dj.conn()"
   ]
  },
  {
   "cell_type": "markdown",
   "metadata": {},
   "source": [
    "The connection to the database server was successfully established if the above call returned without raising an exception."
   ]
  },
  {
   "cell_type": "markdown",
   "metadata": {},
   "source": [
    "### 1.4 Saving the connection configuration across sessions\n",
    "\n",
    "The changes we make to the `dj.config` object are **not persistent** and we would need to redo them each time we start a new session which is not ideal.\n",
    "\n",
    "Luckily DataJoint provides a way around this inconvenience by allowing us to save the current connection configuration for future sessions. We can use this feature by calling the `save_global` method of the `dj.config` object:"
   ]
  },
  {
   "cell_type": "code",
   "execution_count": null,
   "metadata": {},
   "outputs": [],
   "source": [
    "dj.config.save_global()"
   ]
  },
  {
   "cell_type": "markdown",
   "metadata": {},
   "source": [
    "This will create a file called `.datajoint_config.json` in your home directory. DataJoint will use the information contained within this file to configure itself automatically next time we import the `datajoint` package. Note that for the purposes of this webinar the global configuration file is already preconfigured.\n",
    "\n",
    "Another way to store the connection information across sessions is to use the `save_local` method of the `dj.config` object. This method will store the information in a file in the current working directory, i.e. locally. Note that DataJoint can only use this information if the file is present in the current working directory when the `datajoint` package is imported."
   ]
  },
  {
   "cell_type": "markdown",
   "metadata": {},
   "source": [
    "### 1.5 Changing the password\n",
    "The password you received for this webinar was randomly generated. Therefore it is a good idea to change the password to something that is easier to remember. You can change your password by calling the `dj.set_password` function:"
   ]
  },
  {
   "cell_type": "code",
   "execution_count": null,
   "metadata": {},
   "outputs": [],
   "source": [
    "dj.set_password()"
   ]
  },
  {
   "cell_type": "markdown",
   "metadata": {},
   "source": [
    "The function will automatically update the password in the `dj.config` object and save the new configuration locally if you answered yes to the corresponding question. The global configuration on the other hand is not automatically updated. Let's fix that:"
   ]
  },
  {
   "cell_type": "code",
   "execution_count": null,
   "metadata": {},
   "outputs": [],
   "source": [
    "dj.config.save_global()"
   ]
  },
  {
   "cell_type": "markdown",
   "metadata": {},
   "source": [
    "Congratulations! You successfully connected to our database server. Now it is time to learn the basics of DataJoint which we will do in the next section.\n",
    " \n",
    "## 2. Learning basic DataJoint usage\n",
    "\n",
    "### What is a data pipeline?\n",
    "The documentation for [DataJoint](https://docs.datajoint.io/python/intro/01-Data-Pipelines.html?highlight=pipeline#what-is-datajoint) defines a data pipeline as follows:\n",
    "\n",
    "> A data pipeline is a sequence of steps (more generally a directed acyclic graph) with integrated storage at each step.\n",
    "\n",
    "While this is an accurate description, it may not be the most intuitive definition. Put succinctly, a data pipeline is a kind of \"map\" of various \"things\" that you work with in your project, with lines connecting the \"things\" to each other to indicate the dependecies between them. These \"things\" tend to be the nouns you use when describing your project to someone else. They may include things such as mouse, experimenter, session, trial, two-photon scan, electric activity, receptive field, neuronal spike, figure and so on.\n",
    "\n",
    "A data pipeline gives you a framework to:\n",
    "1. Define the \"things\" in your project as tables in which you can store information about the aforementioned \"things\"\n",
    "2. Define the dependencies between the \"things\"\n",
    "\n",
    "A data pipeline can then serve as a \"map\" that describes everything that goes on in your project, capturing what is collected and how it is processed. A well designed data pipeline not only lets you organize your data in an efficient way, but can visualize the logical clarity of your project. In doing so it may even bring about new insights by making the way everything in your project relates together obvious.\n",
    "\n",
    "Let's go ahead and build a pipeline together from scratch to better understand what it's all about.\n",
    "\n",
    "### Building your first pipeline: Single-electrode recording from mouse\n",
    "\n",
    "Let's build a DataJoint pipeline to collect, store and process data for your hypothetical single-electrode recording study in mice. To help us understand the project better, here is a brief description:\n",
    "\n",
    "> * Your lab houses many mice and each mouse is identified by a unique ID. You also want to keep track of information concerning each individual mouse such as its date of birth and gender.\n",
    "> * As a hard working neuroscientist, you perform experiments daily, sometimes working with more than one mouse in a day! However, on any given day, a mouse undergoes at most one recording session.\n",
    "> * For each experimental session you would like to record which mouse you worked with and when you performed the experiment. You would also like to keep track of other helpful information such as which experimental setup you worked on.\n",
    "> * In each experimental session you record electrical activity from a single neuron and you use recording equipment that produces separate data files for each recorded neuron.\n",
    "> * The activities of the neurons are recorded as raw traces and the spikes contained within the traces need to be detected for further analysis.\n",
    "\n",
    "Pipeline design starts by identifying \"things\" (a.k.a. entities) in your project. Common \"things\" may include experimental subjects (e.g. mouse), recording sessions and two-photon scans.\n",
    "\n",
    "Let's revisit the project description, this time paying special attention to the \"things\" (i.e. nouns) in your project. Here I have highlighted some nouns that might be interesting:\n",
    "\n",
    "> * Your lab houses many mice and each **mouse** is identified by a unique ID. You also want to keep track of information concerning each individual mouse such as its date of birth and gender.\n",
    "> * As a hard working neuroscientist, you perform experiments daily, sometimes working with more than one mouse in a day! However, on any given day, a mouse undergoes at most one recording session.\n",
    "> * For each **experimental session** you would like to record which mouse you worked with and when you performed the experiment. You would also like to keep track of other helpful information such as which experimental setup you worked on.\n",
    "> * In each experimental session you record electrical activity from a single **neuron** and you use recording equipment that produces separate data files for each recorded neuron.\n",
    "> * The activities of the neurons are recorded as raw traces and the **spikes** contained within the traces need to be detected for further analysis.\n",
    "\n",
    "Just by going through the description, we can start to identify \"things\" that we might want to store and represent in your data pipeline:\n",
    "\n",
    "* mouse\n",
    "* experimental session\n",
    "* neuron\n",
    "* spikes\n",
    "\n",
    "In a DataJoint data pipeline, we represent these \"things\" as tables. Different kinds of \"things\" are represented by distinct tables and each row of a given table contains a single entry of the kind that the table represents.\n",
    "\n",
    "For example, if we have a table representing mice, then each row in that table represents an individual mouse!\n",
    "\n",
    "When constructing such a table, we need to figure out what information is necessary to uniquely identify any given entry of the kind represented by the table. Let's take the example of the mouse and think about what it would take to uniquely identify a mouse.\n",
    "\n",
    "After some thought we might conclude that each mouse can be uniquely identified by its ID - a unique number assigned to each mouse. Thereafter follows that the ID should be an attribute (i.e. a column) in the table that can be used to uniquely identify each mouse. Such uniquely identifying attributes are called the **primary key** of the table.\n",
    "\n",
    "| mouse_id* |\n",
    "|:--------- |\n",
    "| 11234     |\n",
    "| 11432     |\n",
    "\n",
    "Once we have successfully identified the primary key of the table, we can think about what other **non-primary attributes** we want to include in the table. These will contain additional information about each entry in the table.\n",
    "\n",
    "In the case of the mouse table, what other information about each individual mouse would you might want to store? Based on the project description, we would probably want to store information such as the mouse's date of birth and gender.\n",
    "\n",
    "| mouse_id* | dob\t     | sex |\n",
    "|:--------- | ----------:| ---:|\n",
    "| 11234\t    | 2017-11-17 |\tM  |\n",
    "| 11432\t    | 2018-03-04 |\tF  |\n",
    "\n",
    "Now that we have an idea of how to represent information about the mice in your project, let's start creating the table using DataJoint!\n",
    "\n",
    "### 2.1 Creating a schema\n",
    "\n",
    "To start building your pipeline, we first need to define a place for your tables to life in. In DataJoint this place is called a schema which is a logical collection of one or more tables. Any given pipeline might consist of many tables spread across one or more schemas.\n",
    "\n",
    "We can create a schema by passing the name of the schema to DataJoint's `Schema` class. This will return a schema object which we can assign to a local variable (called `schema` by convention) for later use. Note that DataJoint's `Schema` class is aliased as `dj.schema` in the current context. Also note that you are only allowed to create/access schemas starting with your username followed by a single underscore (e. g. `\"john_pipeline\"` if your username is `\"john\"`). Let's go ahead and create a schema for your first table to live in:"
   ]
  },
  {
   "cell_type": "code",
   "execution_count": null,
   "metadata": {},
   "outputs": [],
   "source": [
    "# ENTER YOUR CODE! - create your own schema object"
   ]
  },
  {
   "cell_type": "markdown",
   "metadata": {},
   "source": [
    "### 2.2 Creating a table\n",
    "\n",
    "DataJoint uses Python classes to represent tables. To be a valid DataJoint table, a class needs to...\n",
    "1. ...inherit from one of DataJoint's base classes (e.g. `dj.Manual`)\n",
    "2. ...define a class attribute of type `str` called `definition`\n",
    "3. ...be decorated with an instance of DataJoint's `Schema` class\n",
    "\n",
    "Remember that each table class is associated with a table in the database and note that the database table is created once the table class is decorated with the schema instance.\n",
    "\n",
    "Let's go ahead and create the first table in our pipeline:"
   ]
  },
  {
   "cell_type": "code",
   "execution_count": null,
   "metadata": {},
   "outputs": [],
   "source": [
    "# ENTER YOUR CODE! - complete your first table definition\n",
    "\n",
    "\n",
    "class Mouse:\n",
    "    pass"
   ]
  },
  {
   "cell_type": "markdown",
   "metadata": {},
   "source": [
    "Note that changing the table class (e.g. changing attribute types) after the database table was created will not change it.\n",
    "\n",
    "Let's take a look at your new table:"
   ]
  },
  {
   "cell_type": "code",
   "execution_count": null,
   "metadata": {},
   "outputs": [],
   "source": [
    "Mouse()"
   ]
  },
  {
   "cell_type": "markdown",
   "metadata": {},
   "source": [
    "Right now the table is pretty boring because it is completely empty. Let's make it more interesting by inserting some entries into it. We will learn how to do this in the next section.\n",
    "\n",
    "### 2.3 Inserting entries\n",
    "\n",
    "We can insert a single entry into a table by calling the table's `insert1` method with the entry that we want to insert packaged as a sequence (e.g. a `tuple`). Let's try to insert a new mouse into the `Mouse` table using the following information:\n",
    "* ID: 0\n",
    "* Date of birth: 2017-03-01\n",
    "* Sex: male"
   ]
  },
  {
   "cell_type": "code",
   "execution_count": null,
   "metadata": {},
   "outputs": [],
   "source": [
    "Mouse.insert1((0, \"2017-03-01\", \"M\"))"
   ]
  },
  {
   "cell_type": "code",
   "execution_count": null,
   "metadata": {},
   "outputs": [],
   "source": [
    "Mouse()"
   ]
  },
  {
   "cell_type": "markdown",
   "metadata": {},
   "source": [
    "We can also insert an entry using a mapping (e.g. a `dict`) instead of a sequence:"
   ]
  },
  {
   "cell_type": "code",
   "execution_count": null,
   "metadata": {},
   "outputs": [],
   "source": [
    "data = {\n",
    "    \"mouse_id\": 100,\n",
    "    \"dob\": \"2017-05-12\",\n",
    "    \"sex\": \"F\",\n",
    "}"
   ]
  },
  {
   "cell_type": "code",
   "execution_count": null,
   "metadata": {},
   "outputs": [],
   "source": [
    "# ENTER YOUR CODE! - insert a single mapping"
   ]
  },
  {
   "cell_type": "code",
   "execution_count": null,
   "metadata": {},
   "outputs": [],
   "source": [
    "Mouse()"
   ]
  },
  {
   "cell_type": "markdown",
   "metadata": {},
   "source": [
    "Inserting individual entries one by one will get tiresome if we have a lot of them. Luckily we can insert multiple entries at once using the table's `insert` method, passing in a sequence of sequences (e. g. a `list` of `tuples`):"
   ]
  },
  {
   "cell_type": "code",
   "execution_count": null,
   "metadata": {},
   "outputs": [],
   "source": [
    "data = [\n",
    "    (1, \"2016-11-19\", \"M\"),\n",
    "    (2, \"2016-11-20\", \"unknown\"),\n",
    "    (5, \"2016-12-25\", \"F\"),\n",
    "]"
   ]
  },
  {
   "cell_type": "code",
   "execution_count": null,
   "metadata": {},
   "outputs": [],
   "source": [
    "# ENTER YOUR CODE! - insert multiple entries at once"
   ]
  },
  {
   "cell_type": "code",
   "execution_count": null,
   "metadata": {},
   "outputs": [],
   "source": [
    "Mouse()"
   ]
  },
  {
   "cell_type": "markdown",
   "metadata": {},
   "source": [
    "Just as before with the `insert1` method, we can pass mappings instead of sequences to the `insert` method as well:"
   ]
  },
  {
   "cell_type": "code",
   "execution_count": null,
   "metadata": {},
   "outputs": [],
   "source": [
    "data = [\n",
    "    {\"mouse_id\": 10, \"dob\": \"2017-01-01\", \"sex\": \"F\"},\n",
    "    {\"mouse_id\": 11, \"dob\": \"2017-01-03\", \"sex\": \"F\"},\n",
    "]\n",
    "\n",
    "Mouse.insert(data)"
   ]
  },
  {
   "cell_type": "code",
   "execution_count": null,
   "metadata": {},
   "outputs": [],
   "source": [
    "Mouse()"
   ]
  },
  {
   "cell_type": "markdown",
   "metadata": {},
   "source": [
    "DataJoint does not allow the insertion of an entry that has the same primary key as an already existing one because that would violate the integrity of the data. Let's test this feature by trying to insert a mouse that is already present in the table:"
   ]
  },
  {
   "cell_type": "code",
   "execution_count": null,
   "metadata": {},
   "outputs": [],
   "source": [
    "Mouse.insert1(\n",
    "    {\n",
    "        \"mouse_id\": 0,\n",
    "        \"dob\": \"2018-01-01\",\n",
    "        \"sex\": \"M\",\n",
    "    }\n",
    ")"
   ]
  },
  {
   "cell_type": "markdown",
   "metadata": {},
   "source": [
    "#### Exercise\n",
    "Insert a single **male** mouse with **ID 6** that was born on **2017-04-15**:"
   ]
  },
  {
   "cell_type": "code",
   "execution_count": null,
   "metadata": {},
   "outputs": [],
   "source": [
    "# ENTER YOUR CODE!"
   ]
  },
  {
   "cell_type": "markdown",
   "metadata": {},
   "source": [
    "Insert **two** mice at the same time. The first one should have **ID 7**, be **female** and its date of birth should be **2016-10-06**. The second one should have **ID 8**, be **male** and its date of birth should be **2016-10-08**:"
   ]
  },
  {
   "cell_type": "code",
   "execution_count": null,
   "metadata": {},
   "outputs": [],
   "source": [
    "# ENTER YOUR CODE!"
   ]
  },
  {
   "cell_type": "markdown",
   "metadata": {},
   "source": [
    "Excellent! Now we know how to insert entries into the table but what about getting data out of the table? This process is called \"fetching\" in the database world and we will learn how to do it in the next section.\n",
    "\n",
    "### 2.4 Fetching data\n",
    "\n",
    "We can fetch all entries in the table by calling the table's `fetch` method:"
   ]
  },
  {
   "cell_type": "code",
   "execution_count": null,
   "metadata": {},
   "outputs": [],
   "source": [
    "Mouse.fetch()"
   ]
  },
  {
   "cell_type": "markdown",
   "metadata": {},
   "source": [
    "The `fetch` method returns the entries as a structured Numpy array by default. We can tell it to return the entries as a list of dictionaries instead by passing the keyword argument `as_dict` with a value of `True` to `fetch`:"
   ]
  },
  {
   "cell_type": "code",
   "execution_count": null,
   "metadata": {},
   "outputs": [],
   "source": [
    "# ENTER YOUR CODE! - fetch as a list of dictionaries"
   ]
  },
  {
   "cell_type": "markdown",
   "metadata": {},
   "source": [
    "What if we only want to fetch a specific attribute instead of all of them? We can do that by passing the names of the attributes that we want to the `fetch` method:"
   ]
  },
  {
   "cell_type": "code",
   "execution_count": null,
   "metadata": {},
   "outputs": [],
   "source": [
    "# ENTER YOUR CODE! - fetch the \"sex\" attribute of all mice"
   ]
  },
  {
   "cell_type": "markdown",
   "metadata": {},
   "source": [
    "We can also fetch multiple attributes by passing additional attribute names to `fetch`:"
   ]
  },
  {
   "cell_type": "code",
   "execution_count": null,
   "metadata": {},
   "outputs": [],
   "source": [
    "sex, dob = Mouse.fetch(\"sex\", \"dob\")"
   ]
  },
  {
   "cell_type": "code",
   "execution_count": null,
   "metadata": {},
   "outputs": [],
   "source": [
    "sex"
   ]
  },
  {
   "cell_type": "code",
   "execution_count": null,
   "metadata": {},
   "outputs": [],
   "source": [
    "dob"
   ]
  },
  {
   "cell_type": "markdown",
   "metadata": {},
   "source": [
    "We can pass `\"KEY\"` to `fetch` if we just want the primary keys of all entries:"
   ]
  },
  {
   "cell_type": "code",
   "execution_count": null,
   "metadata": {},
   "outputs": [],
   "source": [
    "data = Mouse.fetch(\"KEY\")\n",
    "data"
   ]
  },
  {
   "cell_type": "markdown",
   "metadata": {},
   "source": [
    "Note that this will always return the primary key attributes as dictionaries.\n",
    "\n",
    "Fetching all entries as a Pandas DataFrame is also possible:"
   ]
  },
  {
   "cell_type": "code",
   "execution_count": null,
   "metadata": {},
   "outputs": [],
   "source": [
    "data = Mouse.fetch(format=\"frame\")\n",
    "data"
   ]
  },
  {
   "cell_type": "markdown",
   "metadata": {},
   "source": [
    "Fetching all data at once is pretty unefficient in most scenarios. Luckily DataJoint offers a way to query specific data and we will learn all about it in the next section.\n",
    "\n",
    "### 2.5 Querying data\n",
    "\n",
    "Often times we want to work with **a subset of entries** that match a specific condition and not all entries. Using DataJoint's intuitive **querying** syntax lets us select only the entries that we want before fetching them.\n",
    "\n",
    "#### 2.5.1 Restricting by attribute value\n",
    "\n",
    "The **restriction** operator `&` uses the condition to the right of the operator to narrow the entries in the table to the left of the operator down to the ones fulfilling the condition.\n",
    "\n",
    "Syntax: `table & condition`\n",
    "\n",
    "##### 2.5.1.1 Equality\n",
    "\n",
    "Let's restrict the mouse table down to the mouse with **ID 0**:"
   ]
  },
  {
   "cell_type": "code",
   "execution_count": null,
   "metadata": {},
   "outputs": [],
   "source": [
    "Mouse & \"mouse_id = 0\""
   ]
  },
  {
   "cell_type": "markdown",
   "metadata": {},
   "source": [
    "All **male** mice:"
   ]
  },
  {
   "cell_type": "code",
   "execution_count": null,
   "metadata": {},
   "outputs": [],
   "source": [
    "# ENTER YOUR CODE!"
   ]
  },
  {
   "cell_type": "markdown",
   "metadata": {},
   "source": [
    "##### 2.5.1.2 Inequality\n",
    "\n",
    "All mice born **after 2017-01-01**:"
   ]
  },
  {
   "cell_type": "code",
   "execution_count": null,
   "metadata": {},
   "outputs": [],
   "source": [
    "# ENTER YOUR CODE!"
   ]
  },
  {
   "cell_type": "markdown",
   "metadata": {},
   "source": [
    "All mice that are **not male**:"
   ]
  },
  {
   "cell_type": "code",
   "execution_count": null,
   "metadata": {},
   "outputs": [],
   "source": [
    "# ENTER YOUR CODE!"
   ]
  },
  {
   "cell_type": "markdown",
   "metadata": {},
   "source": [
    "#### 2.5.2 Combining restrictions\n",
    "\n",
    "We can combine multiple restrictions to narrow down the set of entries based on multiple attributes.\n",
    "\n",
    "Let's find all mice that are **not male** AND were **born after 2017-01-01**:"
   ]
  },
  {
   "cell_type": "code",
   "execution_count": null,
   "metadata": {},
   "outputs": [],
   "source": [
    "# ENTER YOUR CODE!"
   ]
  },
  {
   "cell_type": "markdown",
   "metadata": {},
   "source": [
    "The result of one query can be used in another query. Let's find **all female mice** and store the result:"
   ]
  },
  {
   "cell_type": "code",
   "execution_count": null,
   "metadata": {},
   "outputs": [],
   "source": [
    "female_mice = Mouse & \"sex = 'F'\"\n",
    "female_mice"
   ]
  },
  {
   "cell_type": "markdown",
   "metadata": {},
   "source": [
    "And among these mice, find the ones with **mouse_id > 10**:"
   ]
  },
  {
   "cell_type": "code",
   "execution_count": null,
   "metadata": {},
   "outputs": [],
   "source": [
    "female_mice & \"mouse_id > 10\""
   ]
  },
  {
   "cell_type": "markdown",
   "metadata": {},
   "source": [
    "#### 2.5.3 Restricting with a dictionary\n",
    "\n",
    "We can also use a dictionary for restrictions. This approach can improve the readability of our code if we would need to chain a lot of string restrictions otherwise. Let's see what querying all male mice that were born on 2016-11-19 looks like using a dictionary:"
   ]
  },
  {
   "cell_type": "code",
   "execution_count": null,
   "metadata": {},
   "outputs": [],
   "source": [
    "restriction = {\n",
    "    \"sex\": \"M\",\n",
    "    \"dob\": \"2016-11-19\",\n",
    "}\n",
    "Mouse & restriction"
   ]
  },
  {
   "cell_type": "markdown",
   "metadata": {},
   "source": [
    "### 2.6 Fetching queried entries\n",
    "\n",
    "We can fetch the queried entries by simply calling the `fetch` method on the query result. Let's try to **fetch all male mice**:"
   ]
  },
  {
   "cell_type": "code",
   "execution_count": null,
   "metadata": {},
   "outputs": [],
   "source": [
    "male_mice = Mouse & \"sex = 'M'\"\n",
    "male_mice"
   ]
  },
  {
   "cell_type": "markdown",
   "metadata": {},
   "source": [
    "Fetch them!"
   ]
  },
  {
   "cell_type": "code",
   "execution_count": null,
   "metadata": {},
   "outputs": [],
   "source": [
    "# ENTER YOUR CODE!"
   ]
  },
  {
   "cell_type": "markdown",
   "metadata": {},
   "source": [
    "We can also query and fetch in one expression:"
   ]
  },
  {
   "cell_type": "code",
   "execution_count": null,
   "metadata": {},
   "outputs": [],
   "source": [
    "(Mouse & \"sex = 'M'\").fetch()"
   ]
  },
  {
   "cell_type": "markdown",
   "metadata": {},
   "source": [
    "### 2.7 Deleting data\n",
    "\n",
    "Now that we have a good understanding of how to restrict tables, we can look at how to delete entries from tables.\n",
    "\n",
    "To delete a specific entry, we need to restrict the table down to the target entry and then call the `delete` method on the restricted table:"
   ]
  },
  {
   "cell_type": "code",
   "execution_count": null,
   "metadata": {},
   "outputs": [],
   "source": [
    "(Mouse & \"mouse_id = 100\").delete()"
   ]
  },
  {
   "cell_type": "markdown",
   "metadata": {},
   "source": [
    "Calling the `delete` method on an unrestricted table will attempt to delete all entries from the table:"
   ]
  },
  {
   "cell_type": "code",
   "execution_count": null,
   "metadata": {},
   "outputs": [],
   "source": [
    "Mouse.delete()"
   ]
  },
  {
   "cell_type": "markdown",
   "metadata": {},
   "source": [
    "#### Exercise\n",
    "Fetch all mice born in **November of 2016**:"
   ]
  },
  {
   "cell_type": "code",
   "execution_count": null,
   "metadata": {},
   "outputs": [],
   "source": [
    "# ENTER YOUR CODE!"
   ]
  },
  {
   "cell_type": "markdown",
   "metadata": {},
   "source": [
    "This concludes part two of the webinar. Next we will look at working with dependent tables:"
   ]
  },
  {
   "cell_type": "markdown",
   "metadata": {},
   "source": [
    "## 3. Working with dependent tables\n",
    "\n",
    "Congratulations! We have successfully created your first table and in doing so we learned how to insert, query, fetch and delete data! We are now ready to integrate other \"things\" from the project into your data pipeline.\n",
    "\n",
    "Let's now take a look at representing an experimental session.\n",
    "\n",
    "As with representing a mouse, we should first think about **what information (i.e. which attributes) is needed to uniquely identify an experimental session**. Here is the relevant section of the project description:\n",
    "\n",
    "> * As a hard working neuroscientist, you perform experiments daily, sometimes working with **more than one mouse in a day**! However, on any given day, **a mouse undergoes at most one recording session**.\n",
    "> * For each experimental session you would like to record **which mouse you worked with** and **when you performed the experiment**. You would also like to keep track of other helpful information such as **which experimental setup** you worked on.\n",
    "\n",
    "Based on the above, it appears that you need to know:\n",
    "\n",
    "* The date of the session\n",
    "* The mouse you recorded from in that session\n",
    "\n",
    "to uniquely identify a single experimental session.\n",
    "\n",
    "Note that, to uniquely identify an experimental session (or simply a session), we need to know which mouse you recorded from in that session. In other words a session cannot existing without a corresponding mouse!\n",
    "\n",
    "With a table representing mice already present in our data pipeline, we say that the session table **depends on** the mouse table! We would graphically represent this in an **entity relationship diagram (ERD)** by drawing a line between the two tables, with the one below (**session**) depending on the one above (**mouse**).\n",
    "\n",
    "![mouse-session](../figures/mouse-session.svg)\n",
    "\n",
    "Thus we will need both an existing mouse entry and a new attribute called `session_date` to uniquely identify a single session.\n",
    "\n",
    "Remember that a mouse is already uniquely identified by its primary key - `mouse_id`. In DataJoint you can declare that the session table depends on the mouse table and DataJoint will automatically include the primary key of the mouse table (i.e. `mouse_id`) as part of the session table's primary key, along side any additional attribute(s) you specify.\n",
    "\n",
    "### 3.1 Defining a dependent table"
   ]
  },
  {
   "cell_type": "code",
   "execution_count": null,
   "metadata": {},
   "outputs": [],
   "source": [
    "@schema\n",
    "class Session(dj.Manual):\n",
    "    definition = \"\"\"\n",
    "    # experimental session\n",
    "    -> Mouse\n",
    "    session_date       : date          # session date\n",
    "    ---\n",
    "    experiment_setup   : int           # experiment setup ID\n",
    "    experimenter       : varchar(100)  # name of the experimenter\n",
    "    start              : time          # starting time of the session\n",
    "    end                : time          # ending time of the session\n",
    "    \"\"\""
   ]
  },
  {
   "cell_type": "markdown",
   "metadata": {},
   "source": [
    "We can create the entity relationship diagram (ERD) by calling `dj.Diagram`, passing the `schema` object:"
   ]
  },
  {
   "cell_type": "code",
   "execution_count": null,
   "metadata": {},
   "outputs": [],
   "source": [
    "# ENTER YOUR CODE! - plot the ERD of the schema"
   ]
  },
  {
   "cell_type": "markdown",
   "metadata": {},
   "source": [
    "Let's try to insert your first session manually:"
   ]
  },
  {
   "cell_type": "code",
   "execution_count": null,
   "metadata": {},
   "outputs": [],
   "source": [
    "data = {\n",
    "    \"mouse_id\": 0,\n",
    "    \"session_date\": \"2017-05-15\",\n",
    "    \"experiment_setup\": 0,\n",
    "    \"experimenter\": \"Edgar Y. Walker\",\n",
    "    \"start\": \"10:22:34\",\n",
    "    \"end\": \"10:54:32\",\n",
    "}\n",
    "Session.insert1(data)\n",
    "Session()"
   ]
  },
  {
   "cell_type": "markdown",
   "metadata": {},
   "source": [
    "Let's try to insert another session for the same mouse (i.e. ID 0) that was done on a different date:"
   ]
  },
  {
   "cell_type": "code",
   "execution_count": null,
   "metadata": {},
   "outputs": [],
   "source": [
    "data = {\n",
    "    \"mouse_id\": 0,\n",
    "    \"session_date\": \"2018-01-15\",\n",
    "    \"experiment_setup\": 100,\n",
    "    \"experimenter\": \"Christoph Blessing\",\n",
    "    \"start\": \"12:32:43\",\n",
    "    \"end\": \"13:15:29\",\n",
    "}\n",
    "Session.insert1(data)\n",
    "Session()"
   ]
  },
  {
   "cell_type": "markdown",
   "metadata": {},
   "source": [
    "And another session that was done on the same date as the one before but on a different mouse:"
   ]
  },
  {
   "cell_type": "code",
   "execution_count": null,
   "metadata": {},
   "outputs": [],
   "source": [
    "data = {\n",
    "    \"mouse_id\": 11,\n",
    "    \"session_date\": \"2018-01-15\",\n",
    "    \"experiment_setup\": 101,\n",
    "    \"experimenter\": \"Christoph Blessing\",\n",
    "    \"start\": \"8:58:42\",\n",
    "    \"end\": \"9:36:40\",\n",
    "}\n",
    "Session.insert1(data)\n",
    "Session()"
   ]
  },
  {
   "cell_type": "markdown",
   "metadata": {},
   "source": [
    "Let's see what happens if we try to insert a session for which no mouse exists:"
   ]
  },
  {
   "cell_type": "code",
   "execution_count": null,
   "metadata": {},
   "outputs": [],
   "source": [
    "bad_data = {\n",
    "    \"mouse_id\": 9999,\n",
    "    \"session_date\": \"2017-05-15\",\n",
    "    \"experiment_setup\": 0,\n",
    "    \"experimenter\": \"Edgar Y. Walker\",\n",
    "    \"start\": \"19:26:51\",\n",
    "    \"end\": \"21:32:12\",\n",
    "}\n",
    "Session.insert1(bad_data)\n",
    "Session()"
   ]
  },
  {
   "cell_type": "markdown",
   "metadata": {},
   "source": [
    "### 3.2 Querying with multiple tables\n",
    "\n",
    "Now that we have two tables, we can perform more exciting queries!\n",
    "\n",
    "#### 3.2.1 Restricting by another table\n",
    "\n",
    "Find all mice that had a session performed on them:"
   ]
  },
  {
   "cell_type": "code",
   "execution_count": null,
   "metadata": {},
   "outputs": [],
   "source": [
    "# ENTER YOUR CODE!"
   ]
  },
  {
   "cell_type": "markdown",
   "metadata": {},
   "source": [
    "#### 3.2.2 Combining restrictions\n",
    "\n",
    "Let's try to find all sessions performed on male mice:"
   ]
  },
  {
   "cell_type": "code",
   "execution_count": null,
   "metadata": {},
   "outputs": [],
   "source": [
    "# ENTER YOUR CODE!"
   ]
  },
  {
   "cell_type": "markdown",
   "metadata": {},
   "source": [
    "Let's try to find all mice that had an experimental session done on or before 2017-05-19:"
   ]
  },
  {
   "cell_type": "code",
   "execution_count": null,
   "metadata": {},
   "outputs": [],
   "source": [
    "# ENTER YOUR CODE!"
   ]
  },
  {
   "cell_type": "markdown",
   "metadata": {},
   "source": [
    "##### Exercise\n",
    "Fetch all mice that had a session performed on them **before 11 a.m.**"
   ]
  },
  {
   "cell_type": "code",
   "execution_count": null,
   "metadata": {},
   "outputs": [],
   "source": [
    "# ENTER YOUR CODE!"
   ]
  },
  {
   "cell_type": "markdown",
   "metadata": {},
   "source": [
    "### 3.3 Deleting entries that have dependent entries\n",
    "\n",
    "Let's see what happens if we try to delete a mouse that had sessions performed on it:"
   ]
  },
  {
   "cell_type": "code",
   "execution_count": null,
   "metadata": {},
   "outputs": [],
   "source": [
    "(Mouse & \"mouse_id = 0\").delete()"
   ]
  },
  {
   "cell_type": "markdown",
   "metadata": {},
   "source": [
    "Note that when deleting an entry (e.g. a mouse) DataJoint will automatically cascade the deletion process down to any dependent entries (e.g. sessions) and delete them as well. This ensures that no orphaned entries are present in the data pipeline after an entry has been deleted.\n",
    "\n",
    "### 3.4 Joining tables\n",
    "\n",
    "Sometimes it is useful to have entries from multiple tables combined together to be viewed and queried. You can accomplish this using the join `*` operator.\n",
    "\n",
    "Let's look at the combination of all mice and sessions:"
   ]
  },
  {
   "cell_type": "code",
   "execution_count": null,
   "metadata": {},
   "outputs": [],
   "source": [
    "Mouse * Session"
   ]
  },
  {
   "cell_type": "markdown",
   "metadata": {},
   "source": [
    "Each row represents a unique and valid combination of a mouse and a session.\n",
    "\n",
    "The combined table can be queried using any of the attributes present in the joined tables.\n",
    "\n",
    "Let's try to find all combinations where Edgar Y. Walker was the experimenter and the sex of the mouse was male:"
   ]
  },
  {
   "cell_type": "code",
   "execution_count": null,
   "metadata": {},
   "outputs": [],
   "source": [
    "# ENTER YOUR CODE!"
   ]
  },
  {
   "cell_type": "markdown",
   "metadata": {},
   "source": [
    "### 3.5 Projecting tables\n",
    "\n",
    "Tables can be projected to select a subset of their attributes, to rename attributes or to calculate new attributes from existing ones.\n",
    "\n",
    "#### 3.5.1 Selecting attributes\n",
    "\n",
    "We can project the `Mouse` table onto its primary key (i. e. `mouse_id`) by calling the table's `proj` method without any arguments:"
   ]
  },
  {
   "cell_type": "code",
   "execution_count": null,
   "metadata": {},
   "outputs": [],
   "source": [
    "Mouse.proj()"
   ]
  },
  {
   "cell_type": "markdown",
   "metadata": {},
   "source": [
    "We can select additional attributes besides the primary key by passing their names to the `proj` method.\n",
    "\n",
    "Let's try to project the `Session` table onto the `start` and `end` attributes:"
   ]
  },
  {
   "cell_type": "code",
   "execution_count": null,
   "metadata": {},
   "outputs": [],
   "source": [
    "# ENTER YOUR CODE!"
   ]
  },
  {
   "cell_type": "markdown",
   "metadata": {},
   "source": [
    "#### 3.5.2 Renaming attributes\n",
    "\n",
    "We can rename existing attributes by passing keyword arguments of the form `new_name=current_name` to the `proj` method.\n",
    "\n",
    "Let's try to rename the `dob` attribute of the `Mouse` table to `date_of_birth`:"
   ]
  },
  {
   "cell_type": "code",
   "execution_count": null,
   "metadata": {},
   "outputs": [],
   "source": [
    "Mouse.proj(date_of_birth=\"dob\")"
   ]
  },
  {
   "cell_type": "markdown",
   "metadata": {},
   "source": [
    "Renaming is often used to create combinations of different entries in a table. Let's try to create all unique combinations of date of births between the mouse with ID 0 and all other mice:"
   ]
  },
  {
   "cell_type": "code",
   "execution_count": null,
   "metadata": {},
   "outputs": [],
   "source": [
    "# ENTER YOUR CODE!"
   ]
  },
  {
   "cell_type": "markdown",
   "metadata": {},
   "source": [
    "#### 3.5.3 Calculating new attributes\n",
    "\n",
    "A powerful feature of projection is the ability to calculate new attributes from existing ones. \n",
    "\n",
    "Let's say we want to calculate the duration of each session and restrict the output to sessions that were shorter than 60 minutes. First we calculate the session durations using the `proj` method and store the resulting projection in a variable:"
   ]
  },
  {
   "cell_type": "code",
   "execution_count": null,
   "metadata": {},
   "outputs": [],
   "source": [
    "durations = Session.proj(duration=\"(end - start) / 60\")  # Result of substraction is in seconds\n",
    "durations"
   ]
  },
  {
   "cell_type": "markdown",
   "metadata": {},
   "source": [
    "Then we can restrict our previously created projection to get all the sessions that were shorter than 60 minutes."
   ]
  },
  {
   "cell_type": "code",
   "execution_count": null,
   "metadata": {},
   "outputs": [],
   "source": [
    "durations & \"duration < 60\""
   ]
  },
  {
   "cell_type": "markdown",
   "metadata": {},
   "source": [
    "Calculations are not parsed by DataJoint but instead passed to SQL. This means we can use SQL functions in the computations!\n",
    "\n",
    "Let's say we want to calculate the age of the mouse we worked with in each session at the date the session was performed using SQL's `DATEDIFF` function:"
   ]
  },
  {
   "cell_type": "code",
   "execution_count": null,
   "metadata": {},
   "outputs": [],
   "source": [
    "(Mouse * Session).proj(age=\"DATEDIFF(session_date, dob)\")  # Age is in days"
   ]
  },
  {
   "cell_type": "markdown",
   "metadata": {},
   "source": [
    "## 4. Summary\n",
    "\n",
    "Congratulations on completing your first DataJoint webinar.\n",
    "\n",
    "We learned how to...\n",
    "1. ...connect to a database\n",
    "2. ...create schemas and tables\n",
    "3. ...insert entries\n",
    "4. ...fetch data\n",
    "5. ...query data\n",
    "6. ...delete entries\n",
    "7. ...work with dependent tables\n",
    "8. ...join tables\n",
    "9. ...project tables\n",
    "\n",
    "We are looking forward to seeing you in the next DataJoint webinar!"
   ]
  }
 ],
 "metadata": {
  "kernelspec": {
   "display_name": "Python 3",
   "language": "python",
   "name": "python3"
  },
  "language_info": {
   "codemirror_mode": {
    "name": "ipython",
    "version": 3
   },
   "file_extension": ".py",
   "mimetype": "text/x-python",
   "name": "python",
   "nbconvert_exporter": "python",
   "pygments_lexer": "ipython3",
   "version": "3.8.2"
  }
 },
 "nbformat": 4,
 "nbformat_minor": 4
}
